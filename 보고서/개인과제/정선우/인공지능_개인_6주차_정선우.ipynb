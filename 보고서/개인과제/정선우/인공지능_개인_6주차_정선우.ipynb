{
 "cells": [
  {
   "cell_type": "code",
   "execution_count": 6,
   "metadata": {},
   "outputs": [
    {
     "name": "stdout",
     "output_type": "stream",
     "text": [
      "첫 번째 정수:20\n",
      "두 번째 정수:4\n",
      "연산자://\n",
      "20 // 4 = 5\n"
     ]
    }
   ],
   "source": [
    "##################################################\n",
    "##                                              ##\n",
    "##         파이썬 프로그래밍 6주차 실습         ##\n",
    "##                                              ##\n",
    "##       소프트웨어학과 2015041074 정선우       ##\n",
    "##                 2020.04.24                   ##\n",
    "##                                              ##\n",
    "##################################################\n",
    "\n",
    "## 실습 1\n",
    "\n",
    "num1=int(input(\"첫 번째 정수:\"))\n",
    "num2=int(input(\"두 번째 정수:\"))\n",
    "op=input(\"연산자:\")\n",
    "\n",
    "if(op == '+'):\n",
    "    print(num1,op,num2,\"=\",num1+num2)\n",
    "elif(op == '-'):\n",
    "    print(num1,op,num2,\"=\",num1-num2)\n",
    "elif(op == '*'):\n",
    "    print(num1,op,num2,\"=\",num1*num2)\n",
    "elif(op == '%'):\n",
    "    print(num1,op,num2,\"=\",num1%num2)\n",
    "elif(op == '/'):\n",
    "    print(num1,op,num2,\"=\",num1/num2)\n",
    "elif(op == '//'):\n",
    "    print(num1,op,num2,\"=\",num1//num2)\n",
    "    "
   ]
  },
  {
   "cell_type": "code",
   "execution_count": null,
   "metadata": {},
   "outputs": [
    {
     "name": "stdout",
     "output_type": "stream",
     "text": [
      "번호 10\n",
      "국어 점수 : 20\n",
      "영어 점수 : 30\n"
     ]
    }
   ],
   "source": [
    "## 실습 2\n",
    "## 클래스를 리스트로 해서 작성해보고 싶었는데 리스트[i].클래스함수 가 불가능하더라구요..\n",
    "## 일단 리스트에 문자열 저장해서 마지막에 출력하는 형식으로 했습니다.\n",
    "## \n",
    "studentList=[]\n",
    "\n",
    "for i in range(5):\n",
    "    num=int(input(\"번호 \"))\n",
    "    scoreKor=int(input(\"국어 점수 : \"))\n",
    "    scoreEng=int(input(\"영어 점수 : \"))\n",
    "    scoreMat=int(input(\"수학 점수 : \"))\n",
    "    scorePsy=int(input(\"물리 점수 : \"))\n",
    "    scoreSum=scoreKor+scoreEng+scoreMat+scorePsy\n",
    "    scoreAvg=scoreSum/4\n",
    "    if (scoreAvg>=90):\n",
    "        scoreGrade='A'\n",
    "    elif (scoreAvg>=80):\n",
    "        scoreGrade='B'\n",
    "    elif (scoreAvg>=70):\n",
    "        scoreGrade='C'\n",
    "    elif (scoreAvg>=60):\n",
    "        scoreGrade='D'\n",
    "    else:\n",
    "        scoreGrade='F'    \n",
    "    studentList.append(\"{0:>5d}{1:>7d}{2:>7d}{3:>7d}{4:>7d}{5:>7d}{6:>7.2f}{7:>7}\".format(num,scoreKor,scoreEng, scoreMat, scorePsy, scoreSum, scoreAvg, scoreGrade))\n",
    "    \n",
    "print(\"======================================================\")\n",
    "print(\" 번호   국어   영어   수학   물리   총점   평균   학점\")\n",
    "print(\"======================================================\")\n",
    "\n",
    "print(studentList[0])\n",
    "print(studentList[1])\n",
    "print(studentList[2])\n",
    "print(studentList[3])\n",
    "print(studentList[4])\n"
   ]
  },
  {
   "cell_type": "code",
   "execution_count": null,
   "metadata": {},
   "outputs": [],
   "source": []
  }
 ],
 "metadata": {
  "kernelspec": {
   "display_name": "Python 3",
   "language": "python",
   "name": "python3"
  },
  "language_info": {
   "codemirror_mode": {
    "name": "ipython",
    "version": 3
   },
   "file_extension": ".py",
   "mimetype": "text/x-python",
   "name": "python",
   "nbconvert_exporter": "python",
   "pygments_lexer": "ipython3",
   "version": "3.7.6"
  }
 },
 "nbformat": 4,
 "nbformat_minor": 4
}
