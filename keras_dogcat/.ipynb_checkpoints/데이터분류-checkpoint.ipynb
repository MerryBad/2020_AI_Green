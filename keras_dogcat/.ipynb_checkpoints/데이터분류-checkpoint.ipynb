{
 "cells": [
  {
   "cell_type": "code",
   "execution_count": 4,
   "metadata": {},
   "outputs": [],
   "source": [
    "import os, shutil # 복사에 필요한 모듈\n",
    "original_dataset_path = './dogsNcats' # 데이터 원본 PATH\n",
    "copy_train_path = './datasets' # 복사된 데이터 PATH"
   ]
  },
  {
   "cell_type": "code",
   "execution_count": 5,
   "metadata": {},
   "outputs": [],
   "source": [
    "def copy_files(dogORcat_path, start_num, end_num, trainOrval_path):\n",
    "    image_paths = [os.path.join(original_dataset_path,\"train\",dogORcat_path + '.' + str(i) + '.jpg')\n",
    "                   for i in range(start_num,end_num)] # 파일 명칭과 같은 형태로 만들어 원하는 수만큼 뽑아 리스트를 만든다\n",
    "    target_copy_paths = os.path.join(copy_train_path,trainOrval_path,dogORcat_path) # 경로 이름 붙이기\n",
    "    if not os.path.isdir(target_copy_paths):\n",
    "        os.makedirs(target_copy_paths)# 해당 이름의 폴더가 없으면 새로 만듬\n",
    "    for image_path in image_paths:\n",
    "        shutil.copy(image_path, target_copy_paths) #(원본 대상, 복사할 대상)\n",
    "    print(\"데이터 복사가 완료되었습니다.\")"
   ]
  },
  {
   "cell_type": "code",
   "execution_count": 6,
   "metadata": {},
   "outputs": [
    {
     "name": "stdout",
     "output_type": "stream",
     "text": [
      "데이터 복사가 완료되었습니다.\n",
      "데이터 복사가 완료되었습니다.\n",
      "데이터 복사가 완료되었습니다.\n",
      "데이터 복사가 완료되었습니다.\n"
     ]
    }
   ],
   "source": [
    "copy_files(\"dog\",0,10000,\"train\")\n",
    "\n",
    "copy_files(\"cat\",0,10000,\"train\")\n",
    "\n",
    "copy_files(\"dog\",10000,12500,\"validation\")\n",
    "\n",
    "copy_files(\"cat\",10000,12500,\"validation\")"
   ]
  },
  {
   "cell_type": "code",
   "execution_count": 7,
   "metadata": {},
   "outputs": [
    {
     "name": "stdout",
     "output_type": "stream",
     "text": [
      "훈련데이터 Dog 개수 10000\n",
      "훈련데이터 Cat 개수 10000\n",
      "검증데이터 Dog 개수 2500\n",
      "검증데이터 Cat 개수 2500\n"
     ]
    }
   ],
   "source": [
    "print(\"훈련데이터 Dog 개수\",len(os.listdir('./datasets/train/dog')))\n",
    "\n",
    "print(\"훈련데이터 Cat 개수\",len(os.listdir('./datasets/train/cat')))\n",
    "\n",
    "print(\"검증데이터 Dog 개수\",len(os.listdir('./datasets/validation/dog')))\n",
    "\n",
    "print(\"검증데이터 Cat 개수\",len(os.listdir('./datasets/validation/cat')))"
   ]
  }
 ],
 "metadata": {
  "kernelspec": {
   "display_name": "cuda",
   "language": "python",
   "name": "cuda"
  },
  "language_info": {
   "codemirror_mode": {
    "name": "ipython",
    "version": 3
   },
   "file_extension": ".py",
   "mimetype": "text/x-python",
   "name": "python",
   "nbconvert_exporter": "python",
   "pygments_lexer": "ipython3",
   "version": "3.6.10"
  }
 },
 "nbformat": 4,
 "nbformat_minor": 4
}
