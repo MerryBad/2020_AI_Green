{
 "cells": [
  {
   "cell_type": "markdown",
   "metadata": {},
   "source": [
    "### 1. 훈련 데이터를 분류하여 복사"
   ]
  },
  {
   "cell_type": "code",
   "execution_count": 1,
   "metadata": {},
   "outputs": [],
   "source": [
    "import os, shutil"
   ]
  },
  {
   "cell_type": "code",
   "execution_count": 2,
   "metadata": {},
   "outputs": [],
   "source": [
    "original_dataset_path = './dogsNcats'\n",
    "copy_train_path = './datasets'\n"
   ]
  },
  {
   "cell_type": "code",
   "execution_count": 5,
   "metadata": {},
   "outputs": [],
   "source": [
    "def copy_files(dogORcat_path,start_num,end_num,trainOrval_path):\n",
    "    \n",
    "    image_paths = [os.path.join(original_dataset_path,\"train\",dogORcat_path + '.' + str(i) + '.jpg')\n",
    "                  for i in range(start_num,end_num)]\n",
    "    \n",
    "    target_copy_paths = os.path.join(copy_train_path,trainOrval_path,dogORcat_path)\n",
    "    \n",
    "    if not os.path.isdir(target_copy_paths):\n",
    "        os.makedirs(target_copy_paths)\n",
    "        \n",
    "    for image_path in image_paths:\n",
    "        shutil.copy(image_path, target_copy_paths)\n",
    "        \n",
    "    print(\"데이터 복사가 완료되었습니다.\")\n",
    "    \n"
   ]
  },
  {
   "cell_type": "code",
   "execution_count": 6,
   "metadata": {},
   "outputs": [
    {
     "name": "stdout",
     "output_type": "stream",
     "text": [
      "데이터 복사가 완료되었습니다.\n",
      "데이터 복사가 완료되었습니다.\n",
      "데이터 복사가 완료되었습니다.\n",
      "데이터 복사가 완료되었습니다.\n"
     ]
    }
   ],
   "source": [
    "copy_files(\"dog\",0,10000,\"train\")\n",
    "copy_files(\"cat\",0,10000,\"train\")\n",
    "copy_files(\"dog\",10000,12500,\"validation\")\n",
    "copy_files(\"cat\",10000,12500,\"validation\")"
   ]
  },
  {
   "cell_type": "code",
   "execution_count": 8,
   "metadata": {},
   "outputs": [
    {
     "name": "stdout",
     "output_type": "stream",
     "text": [
      "훈련데이터 Dog 개수 10000\n",
      "훈련데이터 Cat 개수 10000\n",
      "검증데이터 Dog 개수 2500\n",
      "검증데이터 Cat 개수 2500\n"
     ]
    }
   ],
   "source": [
    "print(\"훈련데이터 Dog 개수\",len(os.listdir('./datasets/train/dog')))\n",
    "print(\"훈련데이터 Cat 개수\",len(os.listdir('./datasets/train/cat')))\n",
    "print(\"검증데이터 Dog 개수\",len(os.listdir('./datasets/validation/dog')))\n",
    "print(\"검증데이터 Cat 개수\",len(os.listdir('./datasets/validation/cat')))"
   ]
  },
  {
   "cell_type": "markdown",
   "metadata": {},
   "source": [
    "### 2. 콜백 함수 만들기"
   ]
  },
  {
   "cell_type": "code",
   "execution_count": 10,
   "metadata": {},
   "outputs": [
    {
     "name": "stderr",
     "output_type": "stream",
     "text": [
      "Using TensorFlow backend.\n"
     ]
    }
   ],
   "source": [
    "from datetime import datetime\n",
    "import os\n",
    "import keras\n"
   ]
  },
  {
   "cell_type": "code",
   "execution_count": 11,
   "metadata": {},
   "outputs": [],
   "source": [
    "save_dir = './my_log'\n",
    "\n",
    "if not os.path.isdir(save_dir):\n",
    "    os.makedirs(save_dir)\n",
    "\n",
    "    \n",
    "project_name = 'dog_cat_CNN_model'"
   ]
  },
  {
   "cell_type": "code",
   "execution_count": 12,
   "metadata": {},
   "outputs": [],
   "source": [
    "def save_file():\n",
    "    time = datetime.today()\n",
    "    yy = time.year\n",
    "    mon = time.month\n",
    "    dd = time.day\n",
    "    hh = time.hour\n",
    "    mm = time.minute\n",
    "    sec = time.second\n",
    "    time_name = str(yy) +  str(mon) + str(dd) + str(hh) + str(mm) +  str(sec) +'_my_' + project_name + '_model.h5'\n",
    "    file_name = os.path.join(save_dir,time_name)\n",
    "    return file_name\n"
   ]
  },
  {
   "cell_type": "code",
   "execution_count": 13,
   "metadata": {},
   "outputs": [],
   "source": [
    "callbacks = [\n",
    "    \n",
    "    keras.callbacks.TensorBoard(\n",
    "    log_dir = save_dir,\n",
    "    write_graph=True,\n",
    "    write_images=True\n",
    "    ),\n",
    "    \n",
    "    keras.callbacks.EarlyStopping(\n",
    "    monitor = 'val_acc',\n",
    "        patience=10,\n",
    "    ),\n",
    "    keras.callbacks.ModelCheckpoint(\n",
    "    filepath= save_file(),\n",
    "    monitor = 'val_loss',\n",
    "    save_best_only = True,\n",
    "    )\n",
    "]"
   ]
  },
  {
   "cell_type": "code",
   "execution_count": null,
   "metadata": {},
   "outputs": [],
   "source": []
  }
 ],
 "metadata": {
  "kernelspec": {
   "display_name": "cuda",
   "language": "python",
   "name": "cuda"
  },
  "language_info": {
   "codemirror_mode": {
    "name": "ipython",
    "version": 3
   },
   "file_extension": ".py",
   "mimetype": "text/x-python",
   "name": "python",
   "nbconvert_exporter": "python",
   "pygments_lexer": "ipython3",
   "version": "3.6.8"
  }
 },
 "nbformat": 4,
 "nbformat_minor": 2
}
